{
  "nbformat": 4,
  "nbformat_minor": 0,
  "metadata": {
    "colab": {
      "provenance": [],
      "gpuType": "T4"
    },
    "kernelspec": {
      "name": "python3",
      "display_name": "Python 3"
    },
    "language_info": {
      "name": "python"
    },
    "accelerator": "GPU"
  },
  "cells": [
    {
      "cell_type": "code",
      "execution_count": null,
      "metadata": {
        "id": "_l7nW1Io0PJJ"
      },
      "outputs": [],
      "source": [
        "!pip install roboflow\n",
        "\n",
        "from roboflow import Roboflow\n",
        "rf = Roboflow(api_key=\"dq96YdSMsS3dS5azjTCD\")\n",
        "project = rf.workspace(\"custom-dataset-kvyg3\").project(\"car-models-rr7w5\")\n",
        "dataset = project.version(1).download(\"yolov5\")\n"
      ]
    },
    {
      "cell_type": "code",
      "source": [
        "%cd /content\n",
        "!git clone https://github.com/ultralytics/yolov5.git"
      ],
      "metadata": {
        "id": "nV5k0muu0Uj0"
      },
      "execution_count": null,
      "outputs": []
    },
    {
      "cell_type": "code",
      "source": [
        "%cd /content/yolov5/\n",
        "!pip install -r requirements.txt"
      ],
      "metadata": {
        "id": "XkrMTYQq0ZTT"
      },
      "execution_count": null,
      "outputs": []
    },
    {
      "cell_type": "code",
      "source": [
        "%cat /content/Car-Models-1/data.yaml"
      ],
      "metadata": {
        "colab": {
          "base_uri": "https://localhost:8080/"
        },
        "id": "84o_Hc-_064h",
        "outputId": "0cc913fc-44e0-4f60-a18f-5e7af49ab6db"
      },
      "execution_count": 6,
      "outputs": [
        {
          "output_type": "stream",
          "name": "stdout",
          "text": [
            "names:\n",
            "- '0'\n",
            "- car\n",
            "- cars\n",
            "nc: 3\n",
            "roboflow:\n",
            "  license: CC BY 4.0\n",
            "  project: car-models-rr7w5\n",
            "  url: https://universe.roboflow.com/custom-dataset-kvyg3/car-models-rr7w5/dataset/1\n",
            "  version: 1\n",
            "  workspace: custom-dataset-kvyg3\n",
            "test: ../test/images\n",
            "train: Car-Models-1/train/images\n",
            "val: Car-Models-1/valid/images\n"
          ]
        }
      ]
    },
    {
      "cell_type": "code",
      "source": [
        "%cd /\n",
        "from glob import glob\n",
        "\n",
        "train_img_list = glob('/content/Car-Models-1/train/images/*.jpg')\n",
        "\n",
        "print(len(train_img_list))"
      ],
      "metadata": {
        "colab": {
          "base_uri": "https://localhost:8080/"
        },
        "id": "ChKwdnE90-4n",
        "outputId": "8fd03cf0-ac35-4c80-b329-c375a270c6ef"
      },
      "execution_count": 7,
      "outputs": [
        {
          "output_type": "stream",
          "name": "stdout",
          "text": [
            "/\n",
            "356\n"
          ]
        }
      ]
    },
    {
      "cell_type": "code",
      "source": [
        "%cd /\n",
        "from glob import glob\n",
        "\n",
        "val_img_list = glob('/content/Car-Models-1/test/images/*.jpg')\n",
        "\n",
        "print(len(val_img_list))"
      ],
      "metadata": {
        "colab": {
          "base_uri": "https://localhost:8080/"
        },
        "id": "IyHr7vbw1EvE",
        "outputId": "b0ac4990-7d4f-4b86-85a3-ea3e33827835"
      },
      "execution_count": 8,
      "outputs": [
        {
          "output_type": "stream",
          "name": "stdout",
          "text": [
            "/\n",
            "18\n"
          ]
        }
      ]
    },
    {
      "cell_type": "code",
      "source": [
        "with open('/content/Car-Models-1/train.txt','w') as f :\n",
        "  f.write('\\n'.join(train_img_list)+'\\n')\n",
        "\n",
        "with open('/content/Car-Models-1/val.txt','w') as f :\n",
        "  f.write('\\n'.join(val_img_list)+'\\n')"
      ],
      "metadata": {
        "id": "Hq04IBOc0gBW"
      },
      "execution_count": 9,
      "outputs": []
    },
    {
      "cell_type": "code",
      "source": [
        "import yaml\n",
        "\n",
        "with open('/content/Car-Models-1/data.yaml', 'r') as f:\n",
        "  data = yaml.safe_load(f)\n",
        "\n",
        "print(data)\n",
        "\n",
        "data['train'] = '/content/Car-Models-1/train.txt'\n",
        "data['val'] = '/content/Car-Models-1/val.txt'\n",
        "\n",
        "with open('/content/Car-Models-1/data.yaml','w') as f:\n",
        "  yaml.dump(data, f)\n",
        "\n",
        "print(data)"
      ],
      "metadata": {
        "colab": {
          "base_uri": "https://localhost:8080/"
        },
        "id": "oi-lpIvs0ijN",
        "outputId": "d2c2534d-1bcc-4a52-8ae1-52a25c756a0e"
      },
      "execution_count": 10,
      "outputs": [
        {
          "output_type": "stream",
          "name": "stdout",
          "text": [
            "{'names': ['0', 'car', 'cars'], 'nc': 3, 'roboflow': {'license': 'CC BY 4.0', 'project': 'car-models-rr7w5', 'url': 'https://universe.roboflow.com/custom-dataset-kvyg3/car-models-rr7w5/dataset/1', 'version': 1, 'workspace': 'custom-dataset-kvyg3'}, 'test': '../test/images', 'train': 'Car-Models-1/train/images', 'val': 'Car-Models-1/valid/images'}\n",
            "{'names': ['0', 'car', 'cars'], 'nc': 3, 'roboflow': {'license': 'CC BY 4.0', 'project': 'car-models-rr7w5', 'url': 'https://universe.roboflow.com/custom-dataset-kvyg3/car-models-rr7w5/dataset/1', 'version': 1, 'workspace': 'custom-dataset-kvyg3'}, 'test': '../test/images', 'train': '/content/Car-Models-1/train.txt', 'val': '/content/Car-Models-1/val.txt'}\n"
          ]
        }
      ]
    },
    {
      "cell_type": "code",
      "source": [
        "%cd /content/yolov5/\n",
        "\n",
        "!python train.py --img 416 --batch 16 --epochs 50 --data /content/Car-Models-1/data.yaml --cfg ./models/yolov5s.yaml --weights yolov5s.pt --name car"
      ],
      "metadata": {
        "colab": {
          "base_uri": "https://localhost:8080/"
        },
        "id": "2-eT_j9S1TOc",
        "outputId": "57e3d029-25b6-431c-cf01-1405cf233f90"
      },
      "execution_count": 11,
      "outputs": [
        {
          "output_type": "stream",
          "name": "stdout",
          "text": [
            "/content/yolov5\n",
            "2023-11-26 18:16:17.192112: E tensorflow/compiler/xla/stream_executor/cuda/cuda_dnn.cc:9342] Unable to register cuDNN factory: Attempting to register factory for plugin cuDNN when one has already been registered\n",
            "2023-11-26 18:16:17.192175: E tensorflow/compiler/xla/stream_executor/cuda/cuda_fft.cc:609] Unable to register cuFFT factory: Attempting to register factory for plugin cuFFT when one has already been registered\n",
            "2023-11-26 18:16:17.192212: E tensorflow/compiler/xla/stream_executor/cuda/cuda_blas.cc:1518] Unable to register cuBLAS factory: Attempting to register factory for plugin cuBLAS when one has already been registered\n",
            "\u001b[34m\u001b[1mtrain: \u001b[0mweights=yolov5s.pt, cfg=./models/yolov5s.yaml, data=/content/Car-Models-1/data.yaml, hyp=data/hyps/hyp.scratch-low.yaml, epochs=50, batch_size=16, imgsz=416, rect=False, resume=False, nosave=False, noval=False, noautoanchor=False, noplots=False, evolve=None, bucket=, cache=None, image_weights=False, device=, multi_scale=False, single_cls=False, optimizer=SGD, sync_bn=False, workers=8, project=runs/train, name=car, exist_ok=False, quad=False, cos_lr=False, label_smoothing=0.0, patience=100, freeze=[0], save_period=-1, seed=0, local_rank=-1, entity=None, upload_dataset=False, bbox_interval=-1, artifact_alias=latest\n",
            "\u001b[34m\u001b[1mgithub: \u001b[0mup to date with https://github.com/ultralytics/yolov5 ✅\n",
            "YOLOv5 🚀 v7.0-247-g3f02fde Python-3.10.12 torch-2.1.0+cu118 CUDA:0 (Tesla T4, 15102MiB)\n",
            "\n",
            "\u001b[34m\u001b[1mhyperparameters: \u001b[0mlr0=0.01, lrf=0.01, momentum=0.937, weight_decay=0.0005, warmup_epochs=3.0, warmup_momentum=0.8, warmup_bias_lr=0.1, box=0.05, cls=0.5, cls_pw=1.0, obj=1.0, obj_pw=1.0, iou_t=0.2, anchor_t=4.0, fl_gamma=0.0, hsv_h=0.015, hsv_s=0.7, hsv_v=0.4, degrees=0.0, translate=0.1, scale=0.5, shear=0.0, perspective=0.0, flipud=0.0, fliplr=0.5, mosaic=1.0, mixup=0.0, copy_paste=0.0\n",
            "\u001b[34m\u001b[1mComet: \u001b[0mrun 'pip install comet_ml' to automatically track and visualize YOLOv5 🚀 runs in Comet\n",
            "\u001b[34m\u001b[1mTensorBoard: \u001b[0mStart with 'tensorboard --logdir runs/train', view at http://localhost:6006/\n",
            "Downloading https://ultralytics.com/assets/Arial.ttf to /root/.config/Ultralytics/Arial.ttf...\n",
            "100% 755k/755k [00:00<00:00, 23.7MB/s]\n",
            "Downloading https://github.com/ultralytics/yolov5/releases/download/v7.0/yolov5s.pt to yolov5s.pt...\n",
            "100% 14.1M/14.1M [00:00<00:00, 185MB/s]\n",
            "\n",
            "Overriding model.yaml nc=80 with nc=3\n",
            "\n",
            "                 from  n    params  module                                  arguments                     \n",
            "  0                -1  1      3520  models.common.Conv                      [3, 32, 6, 2, 2]              \n",
            "  1                -1  1     18560  models.common.Conv                      [32, 64, 3, 2]                \n",
            "  2                -1  1     18816  models.common.C3                        [64, 64, 1]                   \n",
            "  3                -1  1     73984  models.common.Conv                      [64, 128, 3, 2]               \n",
            "  4                -1  2    115712  models.common.C3                        [128, 128, 2]                 \n",
            "  5                -1  1    295424  models.common.Conv                      [128, 256, 3, 2]              \n",
            "  6                -1  3    625152  models.common.C3                        [256, 256, 3]                 \n",
            "  7                -1  1   1180672  models.common.Conv                      [256, 512, 3, 2]              \n",
            "  8                -1  1   1182720  models.common.C3                        [512, 512, 1]                 \n",
            "  9                -1  1    656896  models.common.SPPF                      [512, 512, 5]                 \n",
            " 10                -1  1    131584  models.common.Conv                      [512, 256, 1, 1]              \n",
            " 11                -1  1         0  torch.nn.modules.upsampling.Upsample    [None, 2, 'nearest']          \n",
            " 12           [-1, 6]  1         0  models.common.Concat                    [1]                           \n",
            " 13                -1  1    361984  models.common.C3                        [512, 256, 1, False]          \n",
            " 14                -1  1     33024  models.common.Conv                      [256, 128, 1, 1]              \n",
            " 15                -1  1         0  torch.nn.modules.upsampling.Upsample    [None, 2, 'nearest']          \n",
            " 16           [-1, 4]  1         0  models.common.Concat                    [1]                           \n",
            " 17                -1  1     90880  models.common.C3                        [256, 128, 1, False]          \n",
            " 18                -1  1    147712  models.common.Conv                      [128, 128, 3, 2]              \n",
            " 19          [-1, 14]  1         0  models.common.Concat                    [1]                           \n",
            " 20                -1  1    296448  models.common.C3                        [256, 256, 1, False]          \n",
            " 21                -1  1    590336  models.common.Conv                      [256, 256, 3, 2]              \n",
            " 22          [-1, 10]  1         0  models.common.Concat                    [1]                           \n",
            " 23                -1  1   1182720  models.common.C3                        [512, 512, 1, False]          \n",
            " 24      [17, 20, 23]  1     21576  models.yolo.Detect                      [3, [[10, 13, 16, 30, 33, 23], [30, 61, 62, 45, 59, 119], [116, 90, 156, 198, 373, 326]], [128, 256, 512]]\n",
            "YOLOv5s summary: 214 layers, 7027720 parameters, 7027720 gradients, 16.0 GFLOPs\n",
            "\n",
            "Transferred 342/349 items from yolov5s.pt\n",
            "\u001b[34m\u001b[1mAMP: \u001b[0mchecks passed ✅\n",
            "\u001b[34m\u001b[1moptimizer:\u001b[0m SGD(lr=0.01) with parameter groups 57 weight(decay=0.0), 60 weight(decay=0.0005), 60 bias\n",
            "\u001b[34m\u001b[1malbumentations: \u001b[0mBlur(p=0.01, blur_limit=(3, 7)), MedianBlur(p=0.01, blur_limit=(3, 7)), ToGray(p=0.01), CLAHE(p=0.01, clip_limit=(1, 4.0), tile_grid_size=(8, 8))\n",
            "\u001b[34m\u001b[1mtrain: \u001b[0mScanning /content/Car-Models-1/train... 356 images, 0 backgrounds, 0 corrupt: 100% 356/356 [00:00<00:00, 1673.34it/s]\n",
            "\u001b[34m\u001b[1mtrain: \u001b[0mNew cache created: /content/Car-Models-1/train.cache\n",
            "\u001b[34m\u001b[1mval: \u001b[0mScanning /content/Car-Models-1/val... 18 images, 0 backgrounds, 0 corrupt: 100% 18/18 [00:00<00:00, 428.99it/s]\n",
            "\u001b[34m\u001b[1mval: \u001b[0mNew cache created: /content/Car-Models-1/val.cache\n",
            "\n",
            "\u001b[34m\u001b[1mAutoAnchor: \u001b[0m3.87 anchors/target, 1.000 Best Possible Recall (BPR). Current anchors are a good fit to dataset ✅\n",
            "Plotting labels to runs/train/car/labels.jpg... \n",
            "Image sizes 416 train, 416 val\n",
            "Using 2 dataloader workers\n",
            "Logging results to \u001b[1mruns/train/car\u001b[0m\n",
            "Starting training for 50 epochs...\n",
            "\n",
            "      Epoch    GPU_mem   box_loss   obj_loss   cls_loss  Instances       Size\n",
            "       0/49      1.57G      0.101    0.02364      0.036         11        416: 100% 23/23 [00:14<00:00,  1.54it/s]\n",
            "                 Class     Images  Instances          P          R      mAP50   mAP50-95: 100% 1/1 [00:01<00:00,  1.97s/it]\n",
            "                   all         18         18      0.662      0.133      0.162     0.0628\n",
            "\n",
            "      Epoch    GPU_mem   box_loss   obj_loss   cls_loss  Instances       Size\n",
            "       1/49      1.57G    0.07302    0.02458     0.0267         10        416: 100% 23/23 [00:08<00:00,  2.81it/s]\n",
            "                 Class     Images  Instances          P          R      mAP50   mAP50-95: 100% 1/1 [00:00<00:00,  1.48it/s]\n",
            "                   all         18         18      0.826      0.433      0.421      0.151\n",
            "\n",
            "      Epoch    GPU_mem   box_loss   obj_loss   cls_loss  Instances       Size\n",
            "       2/49      1.57G    0.06456     0.0198    0.02182         14        416: 100% 23/23 [00:09<00:00,  2.55it/s]\n",
            "                 Class     Images  Instances          P          R      mAP50   mAP50-95: 100% 1/1 [00:00<00:00,  2.66it/s]\n",
            "                   all         18         18      0.667      0.267      0.269      0.092\n",
            "\n",
            "      Epoch    GPU_mem   box_loss   obj_loss   cls_loss  Instances       Size\n",
            "       3/49      1.57G     0.0607    0.01981    0.02008         11        416: 100% 23/23 [00:10<00:00,  2.16it/s]\n",
            "                 Class     Images  Instances          P          R      mAP50   mAP50-95: 100% 1/1 [00:00<00:00,  2.99it/s]\n",
            "                   all         18         18      0.781      0.467      0.404      0.219\n",
            "\n",
            "      Epoch    GPU_mem   box_loss   obj_loss   cls_loss  Instances       Size\n",
            "       4/49      1.57G    0.05959    0.01761    0.02004          9        416: 100% 23/23 [00:09<00:00,  2.47it/s]\n",
            "                 Class     Images  Instances          P          R      mAP50   mAP50-95: 100% 1/1 [00:00<00:00,  1.57it/s]\n",
            "                   all         18         18      0.836        0.5      0.484      0.285\n",
            "\n",
            "      Epoch    GPU_mem   box_loss   obj_loss   cls_loss  Instances       Size\n",
            "       5/49      1.57G    0.05513    0.01815    0.01874          7        416: 100% 23/23 [00:08<00:00,  2.81it/s]\n",
            "                 Class     Images  Instances          P          R      mAP50   mAP50-95: 100% 1/1 [00:00<00:00,  3.34it/s]\n",
            "                   all         18         18      0.901      0.433      0.795      0.541\n",
            "\n",
            "      Epoch    GPU_mem   box_loss   obj_loss   cls_loss  Instances       Size\n",
            "       6/49      1.57G    0.04868    0.01617    0.01547          8        416: 100% 23/23 [00:10<00:00,  2.21it/s]\n",
            "                 Class     Images  Instances          P          R      mAP50   mAP50-95: 100% 1/1 [00:00<00:00,  2.53it/s]\n",
            "                   all         18         18      0.842      0.433      0.858      0.436\n",
            "\n",
            "      Epoch    GPU_mem   box_loss   obj_loss   cls_loss  Instances       Size\n",
            "       7/49      1.57G    0.04751     0.0163    0.01678         14        416: 100% 23/23 [00:10<00:00,  2.26it/s]\n",
            "                 Class     Images  Instances          P          R      mAP50   mAP50-95: 100% 1/1 [00:00<00:00,  1.67it/s]\n",
            "                   all         18         18      0.622      0.667       0.58       0.27\n",
            "\n",
            "      Epoch    GPU_mem   box_loss   obj_loss   cls_loss  Instances       Size\n",
            "       8/49      1.57G    0.04594    0.01558    0.01529         10        416: 100% 23/23 [00:07<00:00,  3.01it/s]\n",
            "                 Class     Images  Instances          P          R      mAP50   mAP50-95: 100% 1/1 [00:00<00:00,  2.95it/s]\n",
            "                   all         18         18      0.794          1      0.993      0.417\n",
            "\n",
            "      Epoch    GPU_mem   box_loss   obj_loss   cls_loss  Instances       Size\n",
            "       9/49      1.57G    0.04261    0.01532     0.0122          8        416: 100% 23/23 [00:10<00:00,  2.24it/s]\n",
            "                 Class     Images  Instances          P          R      mAP50   mAP50-95: 100% 1/1 [00:00<00:00,  2.79it/s]\n",
            "                   all         18         18      0.741          1      0.932      0.509\n",
            "\n",
            "      Epoch    GPU_mem   box_loss   obj_loss   cls_loss  Instances       Size\n",
            "      10/49      1.57G    0.04078    0.01457    0.01179          8        416: 100% 23/23 [00:10<00:00,  2.22it/s]\n",
            "                 Class     Images  Instances          P          R      mAP50   mAP50-95: 100% 1/1 [00:00<00:00,  2.04it/s]\n",
            "                   all         18         18      0.719          1      0.874      0.509\n",
            "\n",
            "      Epoch    GPU_mem   box_loss   obj_loss   cls_loss  Instances       Size\n",
            "      11/49      1.57G    0.03937    0.01398    0.01241          9        416: 100% 23/23 [00:08<00:00,  2.82it/s]\n",
            "                 Class     Images  Instances          P          R      mAP50   mAP50-95: 100% 1/1 [00:00<00:00,  2.58it/s]\n",
            "                   all         18         18      0.784      0.909      0.922      0.711\n",
            "\n",
            "      Epoch    GPU_mem   box_loss   obj_loss   cls_loss  Instances       Size\n",
            "      12/49      1.57G    0.04037    0.01439    0.01198         11        416: 100% 23/23 [00:10<00:00,  2.23it/s]\n",
            "                 Class     Images  Instances          P          R      mAP50   mAP50-95: 100% 1/1 [00:00<00:00,  3.66it/s]\n",
            "                   all         18         18      0.815          1        0.9      0.625\n",
            "\n",
            "      Epoch    GPU_mem   box_loss   obj_loss   cls_loss  Instances       Size\n",
            "      13/49      1.57G    0.03726    0.01346    0.01281          8        416: 100% 23/23 [00:10<00:00,  2.20it/s]\n",
            "                 Class     Images  Instances          P          R      mAP50   mAP50-95: 100% 1/1 [00:00<00:00,  2.27it/s]\n",
            "                   all         18         18      0.692      0.976      0.938      0.611\n",
            "\n",
            "      Epoch    GPU_mem   box_loss   obj_loss   cls_loss  Instances       Size\n",
            "      14/49      1.57G    0.03529     0.0131    0.01004         17        416: 100% 23/23 [00:08<00:00,  2.86it/s]\n",
            "                 Class     Images  Instances          P          R      mAP50   mAP50-95: 100% 1/1 [00:00<00:00,  2.66it/s]\n",
            "                   all         18         18      0.934      0.974      0.987      0.649\n",
            "\n",
            "      Epoch    GPU_mem   box_loss   obj_loss   cls_loss  Instances       Size\n",
            "      15/49      1.57G     0.0334    0.01276    0.01096         11        416: 100% 23/23 [00:10<00:00,  2.26it/s]\n",
            "                 Class     Images  Instances          P          R      mAP50   mAP50-95: 100% 1/1 [00:00<00:00,  3.02it/s]\n",
            "                   all         18         18      0.696      0.933      0.826      0.494\n",
            "\n",
            "      Epoch    GPU_mem   box_loss   obj_loss   cls_loss  Instances       Size\n",
            "      16/49      1.57G     0.0323    0.01222   0.009573          8        416: 100% 23/23 [00:10<00:00,  2.16it/s]\n",
            "                 Class     Images  Instances          P          R      mAP50   mAP50-95: 100% 1/1 [00:00<00:00,  3.36it/s]\n",
            "                   all         18         18      0.938      0.964      0.991      0.685\n",
            "\n",
            "      Epoch    GPU_mem   box_loss   obj_loss   cls_loss  Instances       Size\n",
            "      17/49      1.57G    0.03352    0.01233   0.008701          8        416: 100% 23/23 [00:08<00:00,  2.80it/s]\n",
            "                 Class     Images  Instances          P          R      mAP50   mAP50-95: 100% 1/1 [00:00<00:00,  1.58it/s]\n",
            "                   all         18         18      0.922      0.967      0.978      0.617\n",
            "\n",
            "      Epoch    GPU_mem   box_loss   obj_loss   cls_loss  Instances       Size\n",
            "      18/49      1.57G    0.03248     0.0125   0.009075          9        416: 100% 23/23 [00:09<00:00,  2.35it/s]\n",
            "                 Class     Images  Instances          P          R      mAP50   mAP50-95: 100% 1/1 [00:00<00:00,  2.98it/s]\n",
            "                   all         18         18      0.901      0.967      0.979      0.759\n",
            "\n",
            "      Epoch    GPU_mem   box_loss   obj_loss   cls_loss  Instances       Size\n",
            "      19/49      1.57G    0.03244    0.01211   0.008207          7        416: 100% 23/23 [00:10<00:00,  2.21it/s]\n",
            "                 Class     Images  Instances          P          R      mAP50   mAP50-95: 100% 1/1 [00:00<00:00,  2.57it/s]\n",
            "                   all         18         18      0.934      0.933      0.981      0.794\n",
            "\n",
            "      Epoch    GPU_mem   box_loss   obj_loss   cls_loss  Instances       Size\n",
            "      20/49      1.57G    0.03252    0.01236   0.009122          9        416: 100% 23/23 [00:07<00:00,  2.90it/s]\n",
            "                 Class     Images  Instances          P          R      mAP50   mAP50-95: 100% 1/1 [00:00<00:00,  1.72it/s]\n",
            "                   all         18         18      0.948      0.967       0.99      0.768\n",
            "\n",
            "      Epoch    GPU_mem   box_loss   obj_loss   cls_loss  Instances       Size\n",
            "      21/49      1.57G    0.03113     0.0117   0.007777          4        416: 100% 23/23 [00:09<00:00,  2.41it/s]\n",
            "                 Class     Images  Instances          P          R      mAP50   mAP50-95: 100% 1/1 [00:00<00:00,  2.94it/s]\n",
            "                   all         18         18      0.961      0.967       0.99      0.695\n",
            "\n",
            "      Epoch    GPU_mem   box_loss   obj_loss   cls_loss  Instances       Size\n",
            "      22/49      1.57G    0.02946    0.01172   0.007848         14        416: 100% 23/23 [00:10<00:00,  2.16it/s]\n",
            "                 Class     Images  Instances          P          R      mAP50   mAP50-95: 100% 1/1 [00:00<00:00,  3.61it/s]\n",
            "                   all         18         18      0.968      0.967      0.993      0.796\n",
            "\n",
            "      Epoch    GPU_mem   box_loss   obj_loss   cls_loss  Instances       Size\n",
            "      23/49      1.57G    0.02915    0.01145   0.007372          9        416: 100% 23/23 [00:09<00:00,  2.54it/s]\n",
            "                 Class     Images  Instances          P          R      mAP50   mAP50-95: 100% 1/1 [00:00<00:00,  1.75it/s]\n",
            "                   all         18         18       0.97      0.933      0.991      0.744\n",
            "\n",
            "      Epoch    GPU_mem   box_loss   obj_loss   cls_loss  Instances       Size\n",
            "      24/49      1.57G    0.03077    0.01151    0.00651         12        416: 100% 23/23 [00:08<00:00,  2.61it/s]\n",
            "                 Class     Images  Instances          P          R      mAP50   mAP50-95: 100% 1/1 [00:00<00:00,  3.08it/s]\n",
            "                   all         18         18      0.979      0.957      0.993       0.77\n",
            "\n",
            "      Epoch    GPU_mem   box_loss   obj_loss   cls_loss  Instances       Size\n",
            "      25/49      1.57G    0.02915    0.01173   0.007592         13        416: 100% 23/23 [00:10<00:00,  2.20it/s]\n",
            "                 Class     Images  Instances          P          R      mAP50   mAP50-95: 100% 1/1 [00:00<00:00,  2.60it/s]\n",
            "                   all         18         18       0.95          1      0.995       0.73\n",
            "\n",
            "      Epoch    GPU_mem   box_loss   obj_loss   cls_loss  Instances       Size\n",
            "      26/49      1.57G    0.03061    0.01195   0.007998         12        416: 100% 23/23 [00:09<00:00,  2.46it/s]\n",
            "                 Class     Images  Instances          P          R      mAP50   mAP50-95: 100% 1/1 [00:00<00:00,  1.37it/s]\n",
            "                   all         18         18      0.977      0.931      0.993      0.662\n",
            "\n",
            "      Epoch    GPU_mem   box_loss   obj_loss   cls_loss  Instances       Size\n",
            "      27/49      1.57G    0.03019    0.01202   0.008921         15        416: 100% 23/23 [00:08<00:00,  2.68it/s]\n",
            "                 Class     Images  Instances          P          R      mAP50   mAP50-95: 100% 1/1 [00:00<00:00,  2.82it/s]\n",
            "                   all         18         18      0.908      0.933      0.983      0.668\n",
            "\n",
            "      Epoch    GPU_mem   box_loss   obj_loss   cls_loss  Instances       Size\n",
            "      28/49      1.57G    0.02893    0.01183   0.008782          8        416: 100% 23/23 [00:10<00:00,  2.13it/s]\n",
            "                 Class     Images  Instances          P          R      mAP50   mAP50-95: 100% 1/1 [00:00<00:00,  3.44it/s]\n",
            "                   all         18         18      0.979      0.923      0.986      0.683\n",
            "\n",
            "      Epoch    GPU_mem   box_loss   obj_loss   cls_loss  Instances       Size\n",
            "      29/49      1.57G    0.02689    0.01149   0.007024          7        416: 100% 23/23 [00:09<00:00,  2.38it/s]\n",
            "                 Class     Images  Instances          P          R      mAP50   mAP50-95: 100% 1/1 [00:00<00:00,  1.51it/s]\n",
            "                   all         18         18      0.944      0.936      0.991      0.746\n",
            "\n",
            "      Epoch    GPU_mem   box_loss   obj_loss   cls_loss  Instances       Size\n",
            "      30/49      1.57G    0.02675    0.01151   0.007097         13        416: 100% 23/23 [00:08<00:00,  2.75it/s]\n",
            "                 Class     Images  Instances          P          R      mAP50   mAP50-95: 100% 1/1 [00:00<00:00,  2.71it/s]\n",
            "                   all         18         18      0.957      0.967      0.993      0.722\n",
            "\n",
            "      Epoch    GPU_mem   box_loss   obj_loss   cls_loss  Instances       Size\n",
            "      31/49      1.57G    0.02574     0.0114   0.005724         10        416: 100% 23/23 [00:10<00:00,  2.17it/s]\n",
            "                 Class     Images  Instances          P          R      mAP50   mAP50-95: 100% 1/1 [00:00<00:00,  2.48it/s]\n",
            "                   all         18         18      0.948      0.967      0.991      0.771\n",
            "\n",
            "      Epoch    GPU_mem   box_loss   obj_loss   cls_loss  Instances       Size\n",
            "      32/49      1.57G    0.02464    0.01049   0.005875          6        416: 100% 23/23 [00:10<00:00,  2.26it/s]\n",
            "                 Class     Images  Instances          P          R      mAP50   mAP50-95: 100% 1/1 [00:00<00:00,  1.68it/s]\n",
            "                   all         18         18      0.984      0.939      0.991      0.784\n",
            "\n",
            "      Epoch    GPU_mem   box_loss   obj_loss   cls_loss  Instances       Size\n",
            "      33/49      1.57G    0.02635    0.01153   0.006044         16        416: 100% 23/23 [00:08<00:00,  2.81it/s]\n",
            "                 Class     Images  Instances          P          R      mAP50   mAP50-95: 100% 1/1 [00:00<00:00,  2.97it/s]\n",
            "                   all         18         18      0.979      0.967      0.993      0.767\n",
            "\n",
            "      Epoch    GPU_mem   box_loss   obj_loss   cls_loss  Instances       Size\n",
            "      34/49      1.57G    0.02531    0.01089   0.006759         11        416: 100% 23/23 [00:11<00:00,  2.08it/s]\n",
            "                 Class     Images  Instances          P          R      mAP50   mAP50-95: 100% 1/1 [00:00<00:00,  2.71it/s]\n",
            "                   all         18         18       0.98      0.967      0.993      0.731\n",
            "\n",
            "      Epoch    GPU_mem   box_loss   obj_loss   cls_loss  Instances       Size\n",
            "      35/49      1.57G    0.02521    0.01119   0.005109         11        416: 100% 23/23 [00:11<00:00,  2.03it/s]\n",
            "                 Class     Images  Instances          P          R      mAP50   mAP50-95: 100% 1/1 [00:00<00:00,  3.37it/s]\n",
            "                   all         18         18      0.982      0.967      0.993      0.769\n",
            "\n",
            "      Epoch    GPU_mem   box_loss   obj_loss   cls_loss  Instances       Size\n",
            "      36/49      1.57G    0.02487    0.01093   0.005547         11        416: 100% 23/23 [00:08<00:00,  2.71it/s]\n",
            "                 Class     Images  Instances          P          R      mAP50   mAP50-95: 100% 1/1 [00:00<00:00,  1.88it/s]\n",
            "                   all         18         18      0.983      0.967      0.993      0.798\n",
            "\n",
            "      Epoch    GPU_mem   box_loss   obj_loss   cls_loss  Instances       Size\n",
            "      37/49      1.57G    0.02399    0.01047   0.005571         10        416: 100% 23/23 [00:09<00:00,  2.40it/s]\n",
            "                 Class     Images  Instances          P          R      mAP50   mAP50-95: 100% 1/1 [00:00<00:00,  2.64it/s]\n",
            "                   all         18         18      0.984      0.967      0.993      0.773\n",
            "\n",
            "      Epoch    GPU_mem   box_loss   obj_loss   cls_loss  Instances       Size\n",
            "      38/49      1.57G    0.02532    0.01061   0.005109          8        416: 100% 23/23 [00:10<00:00,  2.11it/s]\n",
            "                 Class     Images  Instances          P          R      mAP50   mAP50-95: 100% 1/1 [00:00<00:00,  2.76it/s]\n",
            "                   all         18         18      0.982      0.967      0.993      0.737\n",
            "\n",
            "      Epoch    GPU_mem   box_loss   obj_loss   cls_loss  Instances       Size\n",
            "      39/49      1.57G    0.02443    0.01092   0.005601         10        416: 100% 23/23 [00:09<00:00,  2.32it/s]\n",
            "                 Class     Images  Instances          P          R      mAP50   mAP50-95: 100% 1/1 [00:00<00:00,  1.57it/s]\n",
            "                   all         18         18      0.977      0.967      0.993      0.715\n",
            "\n",
            "      Epoch    GPU_mem   box_loss   obj_loss   cls_loss  Instances       Size\n",
            "      40/49      1.57G    0.02273    0.01079   0.005112         10        416: 100% 23/23 [00:08<00:00,  2.74it/s]\n",
            "                 Class     Images  Instances          P          R      mAP50   mAP50-95: 100% 1/1 [00:00<00:00,  2.55it/s]\n",
            "                   all         18         18      0.978      0.967      0.993      0.705\n",
            "\n",
            "      Epoch    GPU_mem   box_loss   obj_loss   cls_loss  Instances       Size\n",
            "      41/49      1.57G    0.02249    0.01046   0.005374         10        416: 100% 23/23 [00:10<00:00,  2.13it/s]\n",
            "                 Class     Images  Instances          P          R      mAP50   mAP50-95: 100% 1/1 [00:00<00:00,  2.63it/s]\n",
            "                   all         18         18      0.975      0.967      0.993      0.828\n",
            "\n",
            "      Epoch    GPU_mem   box_loss   obj_loss   cls_loss  Instances       Size\n",
            "      42/49      1.57G    0.02144    0.01038   0.005175          6        416: 100% 23/23 [00:09<00:00,  2.32it/s]\n",
            "                 Class     Images  Instances          P          R      mAP50   mAP50-95: 100% 1/1 [00:00<00:00,  1.41it/s]\n",
            "                   all         18         18      0.982      0.967      0.993      0.844\n",
            "\n",
            "      Epoch    GPU_mem   box_loss   obj_loss   cls_loss  Instances       Size\n",
            "      43/49      1.57G    0.02163    0.01027   0.005373         12        416: 100% 23/23 [00:07<00:00,  2.90it/s]\n",
            "                 Class     Images  Instances          P          R      mAP50   mAP50-95: 100% 1/1 [00:00<00:00,  2.81it/s]\n",
            "                   all         18         18      0.974      0.967      0.993      0.749\n",
            "\n",
            "      Epoch    GPU_mem   box_loss   obj_loss   cls_loss  Instances       Size\n",
            "      44/49      1.57G    0.02189    0.01007   0.005265         13        416: 100% 23/23 [00:10<00:00,  2.15it/s]\n",
            "                 Class     Images  Instances          P          R      mAP50   mAP50-95: 100% 1/1 [00:00<00:00,  2.56it/s]\n",
            "                   all         18         18      0.973      0.967      0.993      0.787\n",
            "\n",
            "      Epoch    GPU_mem   box_loss   obj_loss   cls_loss  Instances       Size\n",
            "      45/49      1.57G     0.0209    0.01052   0.005302         11        416: 100% 23/23 [00:10<00:00,  2.14it/s]\n",
            "                 Class     Images  Instances          P          R      mAP50   mAP50-95: 100% 1/1 [00:00<00:00,  2.58it/s]\n",
            "                   all         18         18      0.982      0.967      0.993      0.761\n",
            "\n",
            "      Epoch    GPU_mem   box_loss   obj_loss   cls_loss  Instances       Size\n",
            "      46/49      1.57G    0.02085   0.009781   0.003767         14        416: 100% 23/23 [00:08<00:00,  2.82it/s]\n",
            "                 Class     Images  Instances          P          R      mAP50   mAP50-95: 100% 1/1 [00:00<00:00,  3.00it/s]\n",
            "                   all         18         18      0.983      0.967      0.993       0.78\n",
            "\n",
            "      Epoch    GPU_mem   box_loss   obj_loss   cls_loss  Instances       Size\n",
            "      47/49      1.57G    0.02079    0.01052   0.004438         11        416: 100% 23/23 [00:10<00:00,  2.20it/s]\n",
            "                 Class     Images  Instances          P          R      mAP50   mAP50-95: 100% 1/1 [00:00<00:00,  2.38it/s]\n",
            "                   all         18         18      0.968      0.967      0.993      0.782\n",
            "\n",
            "      Epoch    GPU_mem   box_loss   obj_loss   cls_loss  Instances       Size\n",
            "      48/49      1.57G    0.02118    0.01001   0.004745          9        416: 100% 23/23 [00:10<00:00,  2.20it/s]\n",
            "                 Class     Images  Instances          P          R      mAP50   mAP50-95: 100% 1/1 [00:00<00:00,  2.75it/s]\n",
            "                   all         18         18      0.976      0.967      0.993      0.826\n",
            "\n",
            "      Epoch    GPU_mem   box_loss   obj_loss   cls_loss  Instances       Size\n",
            "      49/49      1.57G    0.02051   0.009992   0.007103          7        416: 100% 23/23 [00:08<00:00,  2.66it/s]\n",
            "                 Class     Images  Instances          P          R      mAP50   mAP50-95: 100% 1/1 [00:00<00:00,  1.49it/s]\n",
            "                   all         18         18      0.984      0.967      0.993      0.836\n",
            "\n",
            "50 epochs completed in 0.157 hours.\n",
            "Optimizer stripped from runs/train/car/weights/last.pt, 14.3MB\n",
            "Optimizer stripped from runs/train/car/weights/best.pt, 14.3MB\n",
            "\n",
            "Validating runs/train/car/weights/best.pt...\n",
            "Fusing layers... \n",
            "YOLOv5s summary: 157 layers, 7018216 parameters, 0 gradients, 15.8 GFLOPs\n",
            "                 Class     Images  Instances          P          R      mAP50   mAP50-95: 100% 1/1 [00:00<00:00,  2.40it/s]\n",
            "                   all         18         18      0.982      0.967      0.993      0.844\n",
            "                     0         18         15      0.985      0.933      0.991      0.859\n",
            "                   car         18          3       0.98          1      0.995       0.83\n",
            "Results saved to \u001b[1mruns/train/car\u001b[0m\n"
          ]
        }
      ]
    },
    {
      "cell_type": "code",
      "source": [
        "from IPython.display import Image\n",
        "import os\n",
        "\n",
        "val_img_path = \"/content/횡단보도_cross.png\"\n",
        "print(\"이미지 경로:\", val_img_path)\n",
        "\n",
        "# YOLOv5 감지 실행\n",
        "!python detect.py --weights /content/yolov5/runs/train/car/weights/best.pt --img 416 --conf 0.5 --source \"{val_img_path}\"\n",
        "\n",
        "# 디버깅을 위해 출력 디렉토리 출력\n",
        "output_path = os.path.join('/content/yolov5/inference/output', os.path.basename(val_img_path))"
      ],
      "metadata": {
        "colab": {
          "base_uri": "https://localhost:8080/"
        },
        "id": "LnhQct4F1aE3",
        "outputId": "5f793977-0255-46ce-f1f5-c5185f2c5f07"
      },
      "execution_count": 12,
      "outputs": [
        {
          "output_type": "stream",
          "name": "stdout",
          "text": [
            "이미지 경로: /content/횡단보도_cross.png\n",
            "\u001b[34m\u001b[1mdetect: \u001b[0mweights=['/content/yolov5/runs/train/car/weights/best.pt'], source=/content/횡단보도_cross.png, data=data/coco128.yaml, imgsz=[416, 416], conf_thres=0.5, iou_thres=0.45, max_det=1000, device=, view_img=False, save_txt=False, save_csv=False, save_conf=False, save_crop=False, nosave=False, classes=None, agnostic_nms=False, augment=False, visualize=False, update=False, project=runs/detect, name=exp, exist_ok=False, line_thickness=3, hide_labels=False, hide_conf=False, half=False, dnn=False, vid_stride=1\n",
            "YOLOv5 🚀 v7.0-247-g3f02fde Python-3.10.12 torch-2.1.0+cu118 CUDA:0 (Tesla T4, 15102MiB)\n",
            "\n",
            "Fusing layers... \n",
            "YOLOv5s summary: 157 layers, 7018216 parameters, 0 gradients, 15.8 GFLOPs\n",
            "image 1/1 /content/횡단보도_cross.png: 224x416 1 0, 1 cars, 41.8ms\n",
            "Speed: 0.4ms pre-process, 41.8ms inference, 1.6ms NMS per image at shape (1, 3, 416, 416)\n",
            "Results saved to \u001b[1mruns/detect/exp\u001b[0m\n"
          ]
        }
      ]
    }
  ]
}