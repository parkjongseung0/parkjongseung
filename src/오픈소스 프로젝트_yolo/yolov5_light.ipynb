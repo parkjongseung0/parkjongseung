{
  "nbformat": 4,
  "nbformat_minor": 0,
  "metadata": {
    "colab": {
      "provenance": [],
      "gpuType": "T4"
    },
    "kernelspec": {
      "name": "python3",
      "display_name": "Python 3"
    },
    "language_info": {
      "name": "python"
    },
    "accelerator": "GPU"
  },
  "cells": [
    {
      "cell_type": "code",
      "execution_count": null,
      "metadata": {
        "id": "OWC94ECl25x-"
      },
      "outputs": [],
      "source": [
        "!pip install roboflow\n",
        "\n",
        "from roboflow import Roboflow\n",
        "rf = Roboflow(api_key=\"dq96YdSMsS3dS5azjTCD\")\n",
        "project = rf.workspace(\"object-detection-onsq3\").project(\"traffic-light-tvvnr\")\n",
        "dataset = project.version(1).download(\"yolov5\")\n"
      ]
    },
    {
      "cell_type": "code",
      "source": [
        "%cd /content\n",
        "!git clone https://github.com/ultralytics/yolov5.git"
      ],
      "metadata": {
        "id": "3LyX1r9q2_V6"
      },
      "execution_count": null,
      "outputs": []
    },
    {
      "cell_type": "code",
      "source": [
        "%cd /content/yolov5/\n",
        "!pip install -r requirements.txt"
      ],
      "metadata": {
        "id": "n07hbjmk2_3_"
      },
      "execution_count": null,
      "outputs": []
    },
    {
      "cell_type": "code",
      "source": [
        "%cat /content/Traffic-light-1/data.yaml"
      ],
      "metadata": {
        "colab": {
          "base_uri": "https://localhost:8080/"
        },
        "id": "JXpZ_ebB3Fyn",
        "outputId": "40eb7bda-3420-493c-e5ab-392e6f2095db"
      },
      "execution_count": 4,
      "outputs": [
        {
          "output_type": "stream",
          "name": "stdout",
          "text": [
            "names:\n",
            "- green\n",
            "- red\n",
            "- yellow\n",
            "nc: 3\n",
            "roboflow:\n",
            "  license: CC BY 4.0\n",
            "  project: traffic-light-tvvnr\n",
            "  url: https://universe.roboflow.com/object-detection-onsq3/traffic-light-tvvnr/dataset/1\n",
            "  version: 1\n",
            "  workspace: object-detection-onsq3\n",
            "test: ../test/images\n",
            "train: Traffic-light-1/train/images\n",
            "val: Traffic-light-1/valid/images\n"
          ]
        }
      ]
    },
    {
      "cell_type": "code",
      "source": [
        "%cd /\n",
        "from glob import glob\n",
        "\n",
        "train_img_list = glob('/content/Traffic-light-1/train/images/*.jpg')\n",
        "\n",
        "print(len(train_img_list))"
      ],
      "metadata": {
        "colab": {
          "base_uri": "https://localhost:8080/"
        },
        "id": "DAqr33ML3NO4",
        "outputId": "743761d4-10d1-42bb-a0b2-fa0e85af3d33"
      },
      "execution_count": 5,
      "outputs": [
        {
          "output_type": "stream",
          "name": "stdout",
          "text": [
            "/\n",
            "261\n"
          ]
        }
      ]
    },
    {
      "cell_type": "code",
      "source": [
        "%cd /\n",
        "from glob import glob\n",
        "\n",
        "val_img_list = glob('/content/Traffic-light-1/test/images/*.jpg')\n",
        "\n",
        "print(len(val_img_list))"
      ],
      "metadata": {
        "colab": {
          "base_uri": "https://localhost:8080/"
        },
        "id": "sbeRXSKJ3mZo",
        "outputId": "f5b117f0-a586-4c3a-ea5d-8f4e0b80a231"
      },
      "execution_count": 6,
      "outputs": [
        {
          "output_type": "stream",
          "name": "stdout",
          "text": [
            "/\n",
            "75\n"
          ]
        }
      ]
    },
    {
      "cell_type": "code",
      "source": [
        "with open('/content/Traffic-light-1/train.txt','w') as f :\n",
        "  f.write('\\n'.join(train_img_list)+'\\n')\n",
        "\n",
        "with open('/content/Traffic-light-1/val.txt','w') as f :\n",
        "  f.write('\\n'.join(val_img_list)+'\\n')"
      ],
      "metadata": {
        "id": "09EED63q3Rgm"
      },
      "execution_count": 7,
      "outputs": []
    },
    {
      "cell_type": "code",
      "source": [
        "import yaml\n",
        "\n",
        "with open('/content/Traffic-light-1/data.yaml', 'r') as f:\n",
        "  data = yaml.safe_load(f)\n",
        "\n",
        "print(data)\n",
        "\n",
        "data['train'] = '/content/Traffic-light-1/train.txt'\n",
        "data['val'] = '/content/Traffic-light-1/val.txt'\n",
        "\n",
        "with open('/content/Traffic-light-1/data.yaml','w') as f:\n",
        "  yaml.dump(data, f)\n",
        "\n",
        "print(data)"
      ],
      "metadata": {
        "colab": {
          "base_uri": "https://localhost:8080/"
        },
        "id": "rmMHepqs3YWd",
        "outputId": "3dedd848-d8a7-4623-f8a2-0838072764e3"
      },
      "execution_count": 8,
      "outputs": [
        {
          "output_type": "stream",
          "name": "stdout",
          "text": [
            "{'names': ['green', 'red', 'yellow'], 'nc': 3, 'roboflow': {'license': 'CC BY 4.0', 'project': 'traffic-light-tvvnr', 'url': 'https://universe.roboflow.com/object-detection-onsq3/traffic-light-tvvnr/dataset/1', 'version': 1, 'workspace': 'object-detection-onsq3'}, 'test': '../test/images', 'train': 'Traffic-light-1/train/images', 'val': 'Traffic-light-1/valid/images'}\n",
            "{'names': ['green', 'red', 'yellow'], 'nc': 3, 'roboflow': {'license': 'CC BY 4.0', 'project': 'traffic-light-tvvnr', 'url': 'https://universe.roboflow.com/object-detection-onsq3/traffic-light-tvvnr/dataset/1', 'version': 1, 'workspace': 'object-detection-onsq3'}, 'test': '../test/images', 'train': '/content/Traffic-light-1/train.txt', 'val': '/content/Traffic-light-1/val.txt'}\n"
          ]
        }
      ]
    },
    {
      "cell_type": "code",
      "source": [
        "%cd /content/yolov5/\n",
        "\n",
        "!python train.py --img 416 --batch 16 --epochs 50 --data /content/Traffic-light-1/data.yaml --cfg ./models/yolov5s.yaml --weights yolov5s.pt --name light"
      ],
      "metadata": {
        "colab": {
          "base_uri": "https://localhost:8080/"
        },
        "id": "4XQL2Ksn3ugO",
        "outputId": "32827875-0b9c-48eb-bf69-d59c196d33e6"
      },
      "execution_count": 9,
      "outputs": [
        {
          "output_type": "stream",
          "name": "stdout",
          "text": [
            "/content/yolov5\n",
            "2023-11-26 18:34:54.412803: E tensorflow/compiler/xla/stream_executor/cuda/cuda_dnn.cc:9342] Unable to register cuDNN factory: Attempting to register factory for plugin cuDNN when one has already been registered\n",
            "2023-11-26 18:34:54.412858: E tensorflow/compiler/xla/stream_executor/cuda/cuda_fft.cc:609] Unable to register cuFFT factory: Attempting to register factory for plugin cuFFT when one has already been registered\n",
            "2023-11-26 18:34:54.412893: E tensorflow/compiler/xla/stream_executor/cuda/cuda_blas.cc:1518] Unable to register cuBLAS factory: Attempting to register factory for plugin cuBLAS when one has already been registered\n",
            "\u001b[34m\u001b[1mtrain: \u001b[0mweights=yolov5s.pt, cfg=./models/yolov5s.yaml, data=/content/Traffic-light-1/data.yaml, hyp=data/hyps/hyp.scratch-low.yaml, epochs=50, batch_size=16, imgsz=416, rect=False, resume=False, nosave=False, noval=False, noautoanchor=False, noplots=False, evolve=None, bucket=, cache=None, image_weights=False, device=, multi_scale=False, single_cls=False, optimizer=SGD, sync_bn=False, workers=8, project=runs/train, name=light, exist_ok=False, quad=False, cos_lr=False, label_smoothing=0.0, patience=100, freeze=[0], save_period=-1, seed=0, local_rank=-1, entity=None, upload_dataset=False, bbox_interval=-1, artifact_alias=latest\n",
            "\u001b[34m\u001b[1mgithub: \u001b[0mup to date with https://github.com/ultralytics/yolov5 ✅\n",
            "YOLOv5 🚀 v7.0-247-g3f02fde Python-3.10.12 torch-2.1.0+cu118 CUDA:0 (Tesla T4, 15102MiB)\n",
            "\n",
            "\u001b[34m\u001b[1mhyperparameters: \u001b[0mlr0=0.01, lrf=0.01, momentum=0.937, weight_decay=0.0005, warmup_epochs=3.0, warmup_momentum=0.8, warmup_bias_lr=0.1, box=0.05, cls=0.5, cls_pw=1.0, obj=1.0, obj_pw=1.0, iou_t=0.2, anchor_t=4.0, fl_gamma=0.0, hsv_h=0.015, hsv_s=0.7, hsv_v=0.4, degrees=0.0, translate=0.1, scale=0.5, shear=0.0, perspective=0.0, flipud=0.0, fliplr=0.5, mosaic=1.0, mixup=0.0, copy_paste=0.0\n",
            "\u001b[34m\u001b[1mComet: \u001b[0mrun 'pip install comet_ml' to automatically track and visualize YOLOv5 🚀 runs in Comet\n",
            "\u001b[34m\u001b[1mTensorBoard: \u001b[0mStart with 'tensorboard --logdir runs/train', view at http://localhost:6006/\n",
            "Downloading https://ultralytics.com/assets/Arial.ttf to /root/.config/Ultralytics/Arial.ttf...\n",
            "100% 755k/755k [00:00<00:00, 21.9MB/s]\n",
            "Downloading https://github.com/ultralytics/yolov5/releases/download/v7.0/yolov5s.pt to yolov5s.pt...\n",
            "100% 14.1M/14.1M [00:00<00:00, 176MB/s]\n",
            "\n",
            "Overriding model.yaml nc=80 with nc=3\n",
            "\n",
            "                 from  n    params  module                                  arguments                     \n",
            "  0                -1  1      3520  models.common.Conv                      [3, 32, 6, 2, 2]              \n",
            "  1                -1  1     18560  models.common.Conv                      [32, 64, 3, 2]                \n",
            "  2                -1  1     18816  models.common.C3                        [64, 64, 1]                   \n",
            "  3                -1  1     73984  models.common.Conv                      [64, 128, 3, 2]               \n",
            "  4                -1  2    115712  models.common.C3                        [128, 128, 2]                 \n",
            "  5                -1  1    295424  models.common.Conv                      [128, 256, 3, 2]              \n",
            "  6                -1  3    625152  models.common.C3                        [256, 256, 3]                 \n",
            "  7                -1  1   1180672  models.common.Conv                      [256, 512, 3, 2]              \n",
            "  8                -1  1   1182720  models.common.C3                        [512, 512, 1]                 \n",
            "  9                -1  1    656896  models.common.SPPF                      [512, 512, 5]                 \n",
            " 10                -1  1    131584  models.common.Conv                      [512, 256, 1, 1]              \n",
            " 11                -1  1         0  torch.nn.modules.upsampling.Upsample    [None, 2, 'nearest']          \n",
            " 12           [-1, 6]  1         0  models.common.Concat                    [1]                           \n",
            " 13                -1  1    361984  models.common.C3                        [512, 256, 1, False]          \n",
            " 14                -1  1     33024  models.common.Conv                      [256, 128, 1, 1]              \n",
            " 15                -1  1         0  torch.nn.modules.upsampling.Upsample    [None, 2, 'nearest']          \n",
            " 16           [-1, 4]  1         0  models.common.Concat                    [1]                           \n",
            " 17                -1  1     90880  models.common.C3                        [256, 128, 1, False]          \n",
            " 18                -1  1    147712  models.common.Conv                      [128, 128, 3, 2]              \n",
            " 19          [-1, 14]  1         0  models.common.Concat                    [1]                           \n",
            " 20                -1  1    296448  models.common.C3                        [256, 256, 1, False]          \n",
            " 21                -1  1    590336  models.common.Conv                      [256, 256, 3, 2]              \n",
            " 22          [-1, 10]  1         0  models.common.Concat                    [1]                           \n",
            " 23                -1  1   1182720  models.common.C3                        [512, 512, 1, False]          \n",
            " 24      [17, 20, 23]  1     21576  models.yolo.Detect                      [3, [[10, 13, 16, 30, 33, 23], [30, 61, 62, 45, 59, 119], [116, 90, 156, 198, 373, 326]], [128, 256, 512]]\n",
            "YOLOv5s summary: 214 layers, 7027720 parameters, 7027720 gradients, 16.0 GFLOPs\n",
            "\n",
            "Transferred 342/349 items from yolov5s.pt\n",
            "\u001b[34m\u001b[1mAMP: \u001b[0mchecks passed ✅\n",
            "\u001b[34m\u001b[1moptimizer:\u001b[0m SGD(lr=0.01) with parameter groups 57 weight(decay=0.0), 60 weight(decay=0.0005), 60 bias\n",
            "\u001b[34m\u001b[1malbumentations: \u001b[0mBlur(p=0.01, blur_limit=(3, 7)), MedianBlur(p=0.01, blur_limit=(3, 7)), ToGray(p=0.01), CLAHE(p=0.01, clip_limit=(1, 4.0), tile_grid_size=(8, 8))\n",
            "\u001b[34m\u001b[1mtrain: \u001b[0mScanning /content/Traffic-light-1/train... 261 images, 0 backgrounds, 0 corrupt: 100% 261/261 [00:00<00:00, 1650.94it/s]\n",
            "\u001b[34m\u001b[1mtrain: \u001b[0mNew cache created: /content/Traffic-light-1/train.cache\n",
            "\u001b[34m\u001b[1mval: \u001b[0mScanning /content/Traffic-light-1/val... 75 images, 0 backgrounds, 0 corrupt: 100% 75/75 [00:00<00:00, 540.72it/s]\n",
            "\u001b[34m\u001b[1mval: \u001b[0mNew cache created: /content/Traffic-light-1/val.cache\n",
            "\n",
            "\u001b[34m\u001b[1mAutoAnchor: \u001b[0m4.77 anchors/target, 1.000 Best Possible Recall (BPR). Current anchors are a good fit to dataset ✅\n",
            "Plotting labels to runs/train/light/labels.jpg... \n",
            "Image sizes 416 train, 416 val\n",
            "Using 2 dataloader workers\n",
            "Logging results to \u001b[1mruns/train/light\u001b[0m\n",
            "Starting training for 50 epochs...\n",
            "\n",
            "      Epoch    GPU_mem   box_loss   obj_loss   cls_loss  Instances       Size\n",
            "       0/49      1.58G     0.1149    0.01676    0.04296          9        416: 100% 17/17 [00:10<00:00,  1.57it/s]\n",
            "                 Class     Images  Instances          P          R      mAP50   mAP50-95: 100% 3/3 [00:04<00:00,  1.48s/it]\n",
            "                   all         75        100    0.00246      0.671     0.0121     0.0027\n",
            "\n",
            "      Epoch    GPU_mem   box_loss   obj_loss   cls_loss  Instances       Size\n",
            "       1/49      1.74G    0.08742    0.02214    0.03611          9        416: 100% 17/17 [00:05<00:00,  3.06it/s]\n",
            "                 Class     Images  Instances          P          R      mAP50   mAP50-95: 100% 3/3 [00:01<00:00,  1.61it/s]\n",
            "                   all         75        100     0.0177        0.6     0.0512     0.0221\n",
            "\n",
            "      Epoch    GPU_mem   box_loss   obj_loss   cls_loss  Instances       Size\n",
            "       2/49      1.75G    0.07097    0.02184    0.03303          9        416: 100% 17/17 [00:07<00:00,  2.15it/s]\n",
            "                 Class     Images  Instances          P          R      mAP50   mAP50-95: 100% 3/3 [00:01<00:00,  1.81it/s]\n",
            "                   all         75        100      0.495       0.25      0.125     0.0463\n",
            "\n",
            "      Epoch    GPU_mem   box_loss   obj_loss   cls_loss  Instances       Size\n",
            "       3/49      1.75G    0.06394     0.0208    0.03219          9        416: 100% 17/17 [00:05<00:00,  3.21it/s]\n",
            "                 Class     Images  Instances          P          R      mAP50   mAP50-95: 100% 3/3 [00:02<00:00,  1.14it/s]\n",
            "                   all         75        100       0.49      0.132     0.0896     0.0388\n",
            "\n",
            "      Epoch    GPU_mem   box_loss   obj_loss   cls_loss  Instances       Size\n",
            "       4/49      1.75G    0.06032    0.01987    0.03172         13        416: 100% 17/17 [00:06<00:00,  2.62it/s]\n",
            "                 Class     Images  Instances          P          R      mAP50   mAP50-95: 100% 3/3 [00:01<00:00,  1.79it/s]\n",
            "                   all         75        100      0.478      0.199      0.176     0.0647\n",
            "\n",
            "      Epoch    GPU_mem   box_loss   obj_loss   cls_loss  Instances       Size\n",
            "       5/49      1.75G    0.05761     0.0183     0.0321         14        416: 100% 17/17 [00:06<00:00,  2.45it/s]\n",
            "                 Class     Images  Instances          P          R      mAP50   mAP50-95: 100% 3/3 [00:02<00:00,  1.10it/s]\n",
            "                   all         75        100      0.524      0.173      0.151     0.0401\n",
            "\n",
            "      Epoch    GPU_mem   box_loss   obj_loss   cls_loss  Instances       Size\n",
            "       6/49      1.75G    0.05589    0.01847     0.0324         16        416: 100% 17/17 [00:05<00:00,  3.09it/s]\n",
            "                 Class     Images  Instances          P          R      mAP50   mAP50-95: 100% 3/3 [00:01<00:00,  1.81it/s]\n",
            "                   all         75        100      0.255      0.297      0.254     0.0717\n",
            "\n",
            "      Epoch    GPU_mem   box_loss   obj_loss   cls_loss  Instances       Size\n",
            "       7/49      1.75G    0.04798    0.01731    0.03194          9        416: 100% 17/17 [00:08<00:00,  2.10it/s]\n",
            "                 Class     Images  Instances          P          R      mAP50   mAP50-95: 100% 3/3 [00:01<00:00,  1.87it/s]\n",
            "                   all         75        100       0.55      0.352      0.277      0.108\n",
            "\n",
            "      Epoch    GPU_mem   box_loss   obj_loss   cls_loss  Instances       Size\n",
            "       8/49      1.75G    0.04578    0.01718    0.03077         13        416: 100% 17/17 [00:05<00:00,  3.15it/s]\n",
            "                 Class     Images  Instances          P          R      mAP50   mAP50-95: 100% 3/3 [00:01<00:00,  1.52it/s]\n",
            "                   all         75        100      0.611      0.335      0.317      0.131\n",
            "\n",
            "      Epoch    GPU_mem   box_loss   obj_loss   cls_loss  Instances       Size\n",
            "       9/49      1.75G    0.04316    0.01476    0.02817         12        416: 100% 17/17 [00:06<00:00,  2.53it/s]\n",
            "                 Class     Images  Instances          P          R      mAP50   mAP50-95: 100% 3/3 [00:01<00:00,  1.76it/s]\n",
            "                   all         75        100      0.554      0.356      0.242     0.0998\n",
            "\n",
            "      Epoch    GPU_mem   box_loss   obj_loss   cls_loss  Instances       Size\n",
            "      10/49      1.75G    0.04193    0.01553    0.02766         11        416: 100% 17/17 [00:06<00:00,  2.75it/s]\n",
            "                 Class     Images  Instances          P          R      mAP50   mAP50-95: 100% 3/3 [00:02<00:00,  1.11it/s]\n",
            "                   all         75        100      0.747      0.358      0.357      0.152\n",
            "\n",
            "      Epoch    GPU_mem   box_loss   obj_loss   cls_loss  Instances       Size\n",
            "      11/49      1.75G    0.04064    0.01372    0.02495         16        416: 100% 17/17 [00:05<00:00,  3.14it/s]\n",
            "                 Class     Images  Instances          P          R      mAP50   mAP50-95: 100% 3/3 [00:01<00:00,  1.55it/s]\n",
            "                   all         75        100      0.838      0.411      0.526      0.296\n",
            "\n",
            "      Epoch    GPU_mem   box_loss   obj_loss   cls_loss  Instances       Size\n",
            "      12/49      1.75G    0.03989    0.01261    0.02413          7        416: 100% 17/17 [00:07<00:00,  2.16it/s]\n",
            "                 Class     Images  Instances          P          R      mAP50   mAP50-95: 100% 3/3 [00:01<00:00,  1.75it/s]\n",
            "                   all         75        100      0.358      0.593      0.511      0.249\n",
            "\n",
            "      Epoch    GPU_mem   box_loss   obj_loss   cls_loss  Instances       Size\n",
            "      13/49      1.75G    0.03846     0.0127    0.02221         12        416: 100% 17/17 [00:05<00:00,  3.21it/s]\n",
            "                 Class     Images  Instances          P          R      mAP50   mAP50-95: 100% 3/3 [00:01<00:00,  1.99it/s]\n",
            "                   all         75        100      0.447      0.565      0.556      0.264\n",
            "\n",
            "      Epoch    GPU_mem   box_loss   obj_loss   cls_loss  Instances       Size\n",
            "      14/49      1.75G    0.03664    0.01159    0.02208         12        416: 100% 17/17 [00:07<00:00,  2.13it/s]\n",
            "                 Class     Images  Instances          P          R      mAP50   mAP50-95: 100% 3/3 [00:01<00:00,  1.99it/s]\n",
            "                   all         75        100      0.401      0.658      0.588      0.313\n",
            "\n",
            "      Epoch    GPU_mem   box_loss   obj_loss   cls_loss  Instances       Size\n",
            "      15/49      1.75G    0.03594    0.01044    0.01994         10        416: 100% 17/17 [00:05<00:00,  3.18it/s]\n",
            "                 Class     Images  Instances          P          R      mAP50   mAP50-95: 100% 3/3 [00:02<00:00,  1.35it/s]\n",
            "                   all         75        100      0.464      0.663      0.596      0.347\n",
            "\n",
            "      Epoch    GPU_mem   box_loss   obj_loss   cls_loss  Instances       Size\n",
            "      16/49      1.75G    0.03535   0.009864    0.01825          9        416: 100% 17/17 [00:06<00:00,  2.57it/s]\n",
            "                 Class     Images  Instances          P          R      mAP50   mAP50-95: 100% 3/3 [00:01<00:00,  2.00it/s]\n",
            "                   all         75        100       0.48      0.646       0.63      0.375\n",
            "\n",
            "      Epoch    GPU_mem   box_loss   obj_loss   cls_loss  Instances       Size\n",
            "      17/49      1.75G    0.03403   0.008963    0.01826          8        416: 100% 17/17 [00:06<00:00,  2.68it/s]\n",
            "                 Class     Images  Instances          P          R      mAP50   mAP50-95: 100% 3/3 [00:02<00:00,  1.15it/s]\n",
            "                   all         75        100      0.453      0.727      0.609      0.357\n",
            "\n",
            "      Epoch    GPU_mem   box_loss   obj_loss   cls_loss  Instances       Size\n",
            "      18/49      1.75G    0.03342   0.009269    0.01822         11        416: 100% 17/17 [00:05<00:00,  3.29it/s]\n",
            "                 Class     Images  Instances          P          R      mAP50   mAP50-95: 100% 3/3 [00:01<00:00,  1.91it/s]\n",
            "                   all         75        100      0.349      0.648      0.497       0.27\n",
            "\n",
            "      Epoch    GPU_mem   box_loss   obj_loss   cls_loss  Instances       Size\n",
            "      19/49      1.75G    0.03364   0.008837    0.01508         12        416: 100% 17/17 [00:07<00:00,  2.15it/s]\n",
            "                 Class     Images  Instances          P          R      mAP50   mAP50-95: 100% 3/3 [00:01<00:00,  1.57it/s]\n",
            "                   all         75        100      0.472      0.799      0.613      0.388\n",
            "\n",
            "      Epoch    GPU_mem   box_loss   obj_loss   cls_loss  Instances       Size\n",
            "      20/49      1.75G    0.03233   0.009049    0.01622          7        416: 100% 17/17 [00:05<00:00,  3.15it/s]\n",
            "                 Class     Images  Instances          P          R      mAP50   mAP50-95: 100% 3/3 [00:01<00:00,  1.69it/s]\n",
            "                   all         75        100      0.443      0.722      0.632      0.415\n",
            "\n",
            "      Epoch    GPU_mem   box_loss   obj_loss   cls_loss  Instances       Size\n",
            "      21/49      1.75G    0.03138   0.008747    0.01368         11        416: 100% 17/17 [00:08<00:00,  2.06it/s]\n",
            "                 Class     Images  Instances          P          R      mAP50   mAP50-95: 100% 3/3 [00:01<00:00,  2.06it/s]\n",
            "                   all         75        100      0.893      0.558      0.636      0.431\n",
            "\n",
            "      Epoch    GPU_mem   box_loss   obj_loss   cls_loss  Instances       Size\n",
            "      22/49      1.75G     0.0294   0.007665    0.01474          6        416: 100% 17/17 [00:05<00:00,  3.24it/s]\n",
            "                 Class     Images  Instances          P          R      mAP50   mAP50-95: 100% 3/3 [00:02<00:00,  1.32it/s]\n",
            "                   all         75        100      0.477      0.749      0.646      0.443\n",
            "\n",
            "      Epoch    GPU_mem   box_loss   obj_loss   cls_loss  Instances       Size\n",
            "      23/49      1.75G    0.02848   0.008011    0.01564          9        416: 100% 17/17 [00:06<00:00,  2.52it/s]\n",
            "                 Class     Images  Instances          P          R      mAP50   mAP50-95: 100% 3/3 [00:01<00:00,  1.94it/s]\n",
            "                   all         75        100       0.53      0.763      0.668      0.427\n",
            "\n",
            "      Epoch    GPU_mem   box_loss   obj_loss   cls_loss  Instances       Size\n",
            "      24/49      1.75G    0.02939   0.007805    0.01312         10        416: 100% 17/17 [00:06<00:00,  2.59it/s]\n",
            "                 Class     Images  Instances          P          R      mAP50   mAP50-95: 100% 3/3 [00:02<00:00,  1.24it/s]\n",
            "                   all         75        100      0.561      0.739      0.675      0.452\n",
            "\n",
            "      Epoch    GPU_mem   box_loss   obj_loss   cls_loss  Instances       Size\n",
            "      25/49      1.75G    0.02833   0.008546    0.01477         10        416: 100% 17/17 [00:05<00:00,  3.20it/s]\n",
            "                 Class     Images  Instances          P          R      mAP50   mAP50-95: 100% 3/3 [00:01<00:00,  2.01it/s]\n",
            "                   all         75        100      0.554       0.62      0.674      0.453\n",
            "\n",
            "      Epoch    GPU_mem   box_loss   obj_loss   cls_loss  Instances       Size\n",
            "      26/49      1.75G     0.0278   0.008174    0.01447         12        416: 100% 17/17 [00:08<00:00,  2.12it/s]\n",
            "                 Class     Images  Instances          P          R      mAP50   mAP50-95: 100% 3/3 [00:01<00:00,  1.72it/s]\n",
            "                   all         75        100      0.921      0.589      0.671      0.458\n",
            "\n",
            "      Epoch    GPU_mem   box_loss   obj_loss   cls_loss  Instances       Size\n",
            "      27/49      1.75G    0.02603   0.007372    0.01392         12        416: 100% 17/17 [00:05<00:00,  3.11it/s]\n",
            "                 Class     Images  Instances          P          R      mAP50   mAP50-95: 100% 3/3 [00:01<00:00,  2.02it/s]\n",
            "                   all         75        100       0.61      0.622      0.679      0.474\n",
            "\n",
            "      Epoch    GPU_mem   box_loss   obj_loss   cls_loss  Instances       Size\n",
            "      28/49      1.75G    0.02596   0.007396     0.0122          6        416: 100% 17/17 [00:07<00:00,  2.26it/s]\n",
            "                 Class     Images  Instances          P          R      mAP50   mAP50-95: 100% 3/3 [00:01<00:00,  1.91it/s]\n",
            "                   all         75        100      0.577      0.723      0.677      0.472\n",
            "\n",
            "      Epoch    GPU_mem   box_loss   obj_loss   cls_loss  Instances       Size\n",
            "      29/49      1.75G    0.02517   0.006915    0.01116          6        416: 100% 17/17 [00:05<00:00,  3.07it/s]\n",
            "                 Class     Images  Instances          P          R      mAP50   mAP50-95: 100% 3/3 [00:02<00:00,  1.15it/s]\n",
            "                   all         75        100      0.535      0.771       0.68      0.484\n",
            "\n",
            "      Epoch    GPU_mem   box_loss   obj_loss   cls_loss  Instances       Size\n",
            "      30/49      1.75G    0.02452   0.007305    0.01184          9        416: 100% 17/17 [00:05<00:00,  2.86it/s]\n",
            "                 Class     Images  Instances          P          R      mAP50   mAP50-95: 100% 3/3 [00:01<00:00,  1.97it/s]\n",
            "                   all         75        100      0.525      0.803      0.679      0.466\n",
            "\n",
            "      Epoch    GPU_mem   box_loss   obj_loss   cls_loss  Instances       Size\n",
            "      31/49      1.75G    0.02597   0.007826     0.0125         11        416: 100% 17/17 [00:07<00:00,  2.38it/s]\n",
            "                 Class     Images  Instances          P          R      mAP50   mAP50-95: 100% 3/3 [00:02<00:00,  1.13it/s]\n",
            "                   all         75        100      0.545      0.771      0.679      0.502\n",
            "\n",
            "      Epoch    GPU_mem   box_loss   obj_loss   cls_loss  Instances       Size\n",
            "      32/49      1.75G    0.02341   0.007072     0.0124          9        416: 100% 17/17 [00:05<00:00,  3.13it/s]\n",
            "                 Class     Images  Instances          P          R      mAP50   mAP50-95: 100% 3/3 [00:01<00:00,  1.93it/s]\n",
            "                   all         75        100      0.575      0.771      0.678      0.463\n",
            "\n",
            "      Epoch    GPU_mem   box_loss   obj_loss   cls_loss  Instances       Size\n",
            "      33/49      1.75G    0.02387    0.00714    0.01129          5        416: 100% 17/17 [00:08<00:00,  2.07it/s]\n",
            "                 Class     Images  Instances          P          R      mAP50   mAP50-95: 100% 3/3 [00:01<00:00,  1.78it/s]\n",
            "                   all         75        100      0.599      0.809      0.703      0.497\n",
            "\n",
            "      Epoch    GPU_mem   box_loss   obj_loss   cls_loss  Instances       Size\n",
            "      34/49      1.75G    0.02258   0.007005    0.01113         13        416: 100% 17/17 [00:05<00:00,  3.19it/s]\n",
            "                 Class     Images  Instances          P          R      mAP50   mAP50-95: 100% 3/3 [00:01<00:00,  1.79it/s]\n",
            "                   all         75        100      0.587      0.826      0.695      0.484\n",
            "\n",
            "      Epoch    GPU_mem   box_loss   obj_loss   cls_loss  Instances       Size\n",
            "      35/49      1.75G    0.02275   0.007065    0.01081         11        416: 100% 17/17 [00:07<00:00,  2.21it/s]\n",
            "                 Class     Images  Instances          P          R      mAP50   mAP50-95: 100% 3/3 [00:01<00:00,  1.98it/s]\n",
            "                   all         75        100      0.581      0.969      0.693      0.507\n",
            "\n",
            "      Epoch    GPU_mem   box_loss   obj_loss   cls_loss  Instances       Size\n",
            "      36/49      1.75G    0.02214   0.006996    0.01127         13        416: 100% 17/17 [00:05<00:00,  3.07it/s]\n",
            "                 Class     Images  Instances          P          R      mAP50   mAP50-95: 100% 3/3 [00:02<00:00,  1.09it/s]\n",
            "                   all         75        100      0.614      0.966      0.701      0.521\n",
            "\n",
            "      Epoch    GPU_mem   box_loss   obj_loss   cls_loss  Instances       Size\n",
            "      37/49      1.75G    0.02129   0.006711   0.009238          8        416: 100% 17/17 [00:06<00:00,  2.72it/s]\n",
            "                 Class     Images  Instances          P          R      mAP50   mAP50-95: 100% 3/3 [00:01<00:00,  1.87it/s]\n",
            "                   all         75        100      0.576      0.689      0.737      0.563\n",
            "\n",
            "      Epoch    GPU_mem   box_loss   obj_loss   cls_loss  Instances       Size\n",
            "      38/49      1.75G    0.02118    0.00693   0.009477         13        416: 100% 17/17 [00:07<00:00,  2.22it/s]\n",
            "                 Class     Images  Instances          P          R      mAP50   mAP50-95: 100% 3/3 [00:01<00:00,  1.53it/s]\n",
            "                   all         75        100      0.588      0.965      0.737      0.531\n",
            "\n",
            "      Epoch    GPU_mem   box_loss   obj_loss   cls_loss  Instances       Size\n",
            "      39/49      1.75G     0.0211   0.006935    0.01028         15        416: 100% 17/17 [00:05<00:00,  3.04it/s]\n",
            "                 Class     Images  Instances          P          R      mAP50   mAP50-95: 100% 3/3 [00:01<00:00,  2.00it/s]\n",
            "                   all         75        100      0.595      0.977      0.739      0.517\n",
            "\n",
            "      Epoch    GPU_mem   box_loss   obj_loss   cls_loss  Instances       Size\n",
            "      40/49      1.75G    0.02023   0.006787   0.009849         11        416: 100% 17/17 [00:08<00:00,  2.12it/s]\n",
            "                 Class     Images  Instances          P          R      mAP50   mAP50-95: 100% 3/3 [00:01<00:00,  1.83it/s]\n",
            "                   all         75        100      0.685      0.676      0.741       0.52\n",
            "\n",
            "      Epoch    GPU_mem   box_loss   obj_loss   cls_loss  Instances       Size\n",
            "      41/49      1.75G     0.0199   0.006619    0.01039         12        416: 100% 17/17 [00:05<00:00,  3.19it/s]\n",
            "                 Class     Images  Instances          P          R      mAP50   mAP50-95: 100% 3/3 [00:02<00:00,  1.30it/s]\n",
            "                   all         75        100       0.72      0.676      0.767       0.56\n",
            "\n",
            "      Epoch    GPU_mem   box_loss   obj_loss   cls_loss  Instances       Size\n",
            "      42/49      1.75G    0.01983   0.006939    0.01021         11        416: 100% 17/17 [00:06<00:00,  2.58it/s]\n",
            "                 Class     Images  Instances          P          R      mAP50   mAP50-95: 100% 3/3 [00:01<00:00,  2.03it/s]\n",
            "                   all         75        100      0.657      0.676      0.809      0.606\n",
            "\n",
            "      Epoch    GPU_mem   box_loss   obj_loss   cls_loss  Instances       Size\n",
            "      43/49      1.75G    0.01913   0.006311   0.008403         11        416: 100% 17/17 [00:06<00:00,  2.60it/s]\n",
            "                 Class     Images  Instances          P          R      mAP50   mAP50-95: 100% 3/3 [00:02<00:00,  1.18it/s]\n",
            "                   all         75        100      0.765      0.766      0.838      0.638\n",
            "\n",
            "      Epoch    GPU_mem   box_loss   obj_loss   cls_loss  Instances       Size\n",
            "      44/49      1.75G    0.01764   0.006107   0.009159         10        416: 100% 17/17 [00:05<00:00,  3.14it/s]\n",
            "                 Class     Images  Instances          P          R      mAP50   mAP50-95: 100% 3/3 [00:01<00:00,  1.86it/s]\n",
            "                   all         75        100      0.757      0.864      0.837      0.649\n",
            "\n",
            "      Epoch    GPU_mem   box_loss   obj_loss   cls_loss  Instances       Size\n",
            "      45/49      1.75G    0.01744   0.006425   0.008454         11        416: 100% 17/17 [00:07<00:00,  2.16it/s]\n",
            "                 Class     Images  Instances          P          R      mAP50   mAP50-95: 100% 3/3 [00:01<00:00,  1.69it/s]\n",
            "                   all         75        100       0.76      0.866       0.87      0.671\n",
            "\n",
            "      Epoch    GPU_mem   box_loss   obj_loss   cls_loss  Instances       Size\n",
            "      46/49      1.75G    0.01829   0.006415   0.008696         15        416: 100% 17/17 [00:05<00:00,  3.16it/s]\n",
            "                 Class     Images  Instances          P          R      mAP50   mAP50-95: 100% 3/3 [00:01<00:00,  1.84it/s]\n",
            "                   all         75        100      0.853      0.866      0.905      0.709\n",
            "\n",
            "      Epoch    GPU_mem   box_loss   obj_loss   cls_loss  Instances       Size\n",
            "      47/49      1.75G    0.01712   0.006275   0.008965         15        416: 100% 17/17 [00:07<00:00,  2.22it/s]\n",
            "                 Class     Images  Instances          P          R      mAP50   mAP50-95: 100% 3/3 [00:01<00:00,  1.91it/s]\n",
            "                   all         75        100      0.808      0.901      0.877      0.674\n",
            "\n",
            "      Epoch    GPU_mem   box_loss   obj_loss   cls_loss  Instances       Size\n",
            "      48/49      1.75G    0.01745    0.00611   0.007988          8        416: 100% 17/17 [00:05<00:00,  3.05it/s]\n",
            "                 Class     Images  Instances          P          R      mAP50   mAP50-95: 100% 3/3 [00:02<00:00,  1.16it/s]\n",
            "                   all         75        100      0.788      0.906      0.876      0.678\n",
            "\n",
            "      Epoch    GPU_mem   box_loss   obj_loss   cls_loss  Instances       Size\n",
            "      49/49      1.75G    0.01733   0.005846   0.007322         11        416: 100% 17/17 [00:06<00:00,  2.80it/s]\n",
            "                 Class     Images  Instances          P          R      mAP50   mAP50-95: 100% 3/3 [00:01<00:00,  1.87it/s]\n",
            "                   all         75        100       0.79      0.906      0.876      0.686\n",
            "\n",
            "50 epochs completed in 0.134 hours.\n",
            "Optimizer stripped from runs/train/light/weights/last.pt, 14.3MB\n",
            "Optimizer stripped from runs/train/light/weights/best.pt, 14.3MB\n",
            "\n",
            "Validating runs/train/light/weights/best.pt...\n",
            "Fusing layers... \n",
            "YOLOv5s summary: 157 layers, 7018216 parameters, 0 gradients, 15.8 GFLOPs\n",
            "                 Class     Images  Instances          P          R      mAP50   mAP50-95: 100% 3/3 [00:01<00:00,  2.00it/s]\n",
            "                   all         75        100      0.854      0.866      0.905      0.709\n",
            "                 green         75         43      0.849      0.884      0.911      0.704\n",
            "                   red         75         50      0.896          1      0.995      0.754\n",
            "                yellow         75          7      0.817      0.714      0.809      0.668\n",
            "Results saved to \u001b[1mruns/train/light\u001b[0m\n"
          ]
        }
      ]
    },
    {
      "cell_type": "code",
      "source": [
        "from IPython.display import Image\n",
        "import os\n",
        "\n",
        "val_img_path = \"/content/횡단보도_cross_car.png\"\n",
        "print(\"이미지 경로:\", val_img_path)\n",
        "\n",
        "# YOLOv5 감지 실행\n",
        "!python detect.py --weights /content/yolov5/runs/train/light/weights/best.pt --img 416 --conf 0.5 --source \"{val_img_path}\"\n",
        "\n",
        "# 디버깅을 위해 출력 디렉토리 출력\n",
        "output_path = os.path.join('/content/yolov5/inference/output', os.path.basename(val_img_path))"
      ],
      "metadata": {
        "colab": {
          "base_uri": "https://localhost:8080/"
        },
        "id": "K5gIPUxs313r",
        "outputId": "745ef63f-346d-4a32-c0c2-39a12a5e9d75"
      },
      "execution_count": 10,
      "outputs": [
        {
          "output_type": "stream",
          "name": "stdout",
          "text": [
            "이미지 경로: /content/횡단보도_cross_car.png\n",
            "\u001b[34m\u001b[1mdetect: \u001b[0mweights=['/content/yolov5/runs/train/light/weights/best.pt'], source=/content/횡단보도_cross_car.png, data=data/coco128.yaml, imgsz=[416, 416], conf_thres=0.5, iou_thres=0.45, max_det=1000, device=, view_img=False, save_txt=False, save_csv=False, save_conf=False, save_crop=False, nosave=False, classes=None, agnostic_nms=False, augment=False, visualize=False, update=False, project=runs/detect, name=exp, exist_ok=False, line_thickness=3, hide_labels=False, hide_conf=False, half=False, dnn=False, vid_stride=1\n",
            "YOLOv5 🚀 v7.0-247-g3f02fde Python-3.10.12 torch-2.1.0+cu118 CUDA:0 (Tesla T4, 15102MiB)\n",
            "\n",
            "Fusing layers... \n",
            "YOLOv5s summary: 157 layers, 7018216 parameters, 0 gradients, 15.8 GFLOPs\n",
            "image 1/1 /content/횡단보도_cross_car.png: 224x416 (no detections), 42.5ms\n",
            "Speed: 0.3ms pre-process, 42.5ms inference, 0.9ms NMS per image at shape (1, 3, 416, 416)\n",
            "Results saved to \u001b[1mruns/detect/exp\u001b[0m\n"
          ]
        }
      ]
    }
  ]
}